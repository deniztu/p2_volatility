{
 "cells": [
  {
   "cell_type": "markdown",
   "metadata": {},
   "source": [
    "# Import libs"
   ]
  },
  {
   "cell_type": "code",
   "execution_count": 1,
   "metadata": {},
   "outputs": [],
   "source": [
    "import statistics\n",
    "import numpy as np\n",
    "import pandas as pd\n",
    "from math import sqrt\n",
    "from tqdm import tqdm\n",
    "import seaborn as sns\n",
    "import matplotlib.pyplot as plt\n",
    "from matplotlib.lines import Line2D\n",
    "import os as os\n",
    "from scipy.optimize import curve_fit\n",
    "from scipy.stats import iqr"
   ]
  },
  {
   "cell_type": "code",
   "execution_count": 2,
   "metadata": {},
   "outputs": [],
   "source": [
    "#move up in directory\n",
    "os.chdir('../')"
   ]
  },
  {
   "cell_type": "code",
   "execution_count": 3,
   "metadata": {},
   "outputs": [
    {
     "data": {
      "text/plain": [
       "'C:\\\\Users\\\\deniz\\\\Desktop\\\\PhD\\\\p3_volatility_adaptation'"
      ]
     },
     "execution_count": 3,
     "metadata": {},
     "output_type": "execute_result"
    }
   ],
   "source": [
    "os.getcwd()"
   ]
  },
  {
   "cell_type": "markdown",
   "metadata": {},
   "source": [
    "# Import data"
   ]
  },
  {
   "cell_type": "code",
   "execution_count": 4,
   "metadata": {},
   "outputs": [],
   "source": [
    "stanfit_0_05 = np.load('data/intermediate_data/modeling/modeling_fits/stanfit_rnn_data_train_sd_0_05.npy')\n",
    "stanfit_0_1 = np.load('data/intermediate_data/modeling/modeling_fits/stanfit_rnn_data_train_sd_0_1.npy')\n",
    "stanfit_met = np.load('data/intermediate_data/modeling/modeling_fits/stanfit_rnn_data_train_sd_met.npy')"
   ]
  },
  {
   "cell_type": "markdown",
   "metadata": {},
   "source": [
    "# Plot"
   ]
  },
  {
   "cell_type": "markdown",
   "metadata": {},
   "source": [
    "### Confidece interval function"
   ]
  },
  {
   "cell_type": "code",
   "execution_count": 5,
   "metadata": {},
   "outputs": [],
   "source": [
    "def plot_confidence_interval(x, values, color, ax, z=1.96, horizontal_line_width=0.005):\n",
    "    mean = np.nanmean(values)\n",
    "    stdev = np.nanstd(values)\n",
    "    confidence_interval = z * stdev / sqrt(len(values))\n",
    "\n",
    "    left = x - horizontal_line_width / 2\n",
    "    top = mean - confidence_interval\n",
    "    right = x + horizontal_line_width / 2\n",
    "    bottom = mean + confidence_interval\n",
    "    ax.plot([x, x], [top, bottom], color=color, alpha=1, lw=0.5)\n",
    "    ax.plot([left, right], [top, top], color=color, alpha=1, lw=0.5)\n",
    "    ax.plot([left, right], [bottom, bottom], color=color, alpha=1, lw=0.5)\n",
    "    ax.plot(x, mean, 'o', color=color, markersize = 3)\n",
    "\n",
    "    return mean, confidence_interval"
   ]
  },
  {
   "cell_type": "markdown",
   "metadata": {},
   "source": [
    "### Exponential decay function"
   ]
  },
  {
   "cell_type": "code",
   "execution_count": 6,
   "metadata": {},
   "outputs": [],
   "source": [
    "def exp_fit(x, y0, a, k):\n",
    "    y = (y0-a) * np.exp(-k * x) + a\n",
    "    return y"
   ]
  },
  {
   "cell_type": "markdown",
   "metadata": {},
   "source": [
    "### Curve fit\n"
   ]
  },
  {
   "cell_type": "code",
   "execution_count": 7,
   "metadata": {},
   "outputs": [
    {
     "name": "stdout",
     "output_type": "stream",
     "text": [
      "START\n",
      "Train SD: 0\n",
      "Alpha\n",
      "intercept y0 = 0.26790879168603987\n",
      "asymptote a = 5.425219514293222e-05\n",
      "decay rate k = 0.009754587621803599\n",
      "Beta\n",
      "intercept y0 = 116.10632878491333\n",
      "asymptote a = 13.415630263554231\n",
      "decay rate k = 37.25902080688797\n",
      "END\n",
      "START\n",
      "Train SD: 1\n",
      "Alpha\n",
      "intercept y0 = 0.21055053956222414\n",
      "asymptote a = 0.49238450541514095\n",
      "decay rate k = 28.114390940899263\n",
      "Beta\n",
      "intercept y0 = 55.66066701732998\n",
      "asymptote a = 10.987477661186292\n",
      "decay rate k = 28.537482560007366\n",
      "END\n",
      "START\n",
      "Train SD: 2\n",
      "Alpha\n",
      "intercept y0 = 0.11501222660577122\n",
      "asymptote a = 0.5111205186422478\n",
      "decay rate k = 23.23362358722839\n",
      "Beta\n",
      "intercept y0 = 84.33273436298222\n",
      "asymptote a = 9.991747499053403\n",
      "decay rate k = 36.27650911276664\n",
      "END\n"
     ]
    }
   ],
   "source": [
    "x = np.around(np.linspace(0.02,0.3,15), decimals=2)\n",
    "df_list = [stanfit_0_05, stanfit_0_1, stanfit_met]\n",
    "param_bounds=([0,0,0],[1,1,np.inf])\n",
    "y_alpha = []\n",
    "y_beta = []\n",
    "for i, df in enumerate(df_list):\n",
    "    \n",
    "    df = np.mean(df, axis = (1,3))\n",
    "    alpha = df[0]\n",
    "    beta = df[1]\n",
    "    \n",
    "    fit_alpha = curve_fit(exp_fit, x, alpha ,maxfev = 6000, bounds = param_bounds)\n",
    "    \n",
    "    y_alpha.append(exp_fit(x, y0= fit_alpha[0][0], a = fit_alpha[0][1], k = fit_alpha[0][2]))\n",
    "    \n",
    "    fit_beta = curve_fit(exp_fit, x, beta, maxfev = 6000)\n",
    "    \n",
    "    y_beta.append(exp_fit(x, y0= fit_beta[0][0], a = fit_beta[0][1], k = fit_beta[0][2]))\n",
    "\n",
    "    #y_switch.append(fit_switch[0][0] * np.exp(-fit_switch[0][1] * x) + fit_switch[0][2])\n",
    "    \n",
    "    \n",
    "    print('START')\n",
    "    print('Train SD: {}'.format(i))\n",
    "    print('Alpha')\n",
    "    print('intercept y0 = {}'.format(fit_alpha[0][0]))\n",
    "    print('asymptote a = {}'.format(fit_alpha[0][1]))\n",
    "    print('decay rate k = {}'.format(fit_alpha[0][2]))\n",
    "    print('Beta')\n",
    "    print('intercept y0 = {}'.format(fit_beta[0][0]))\n",
    "    print('asymptote a = {}'.format(fit_beta[0][1]))\n",
    "    print('decay rate k = {}'.format(fit_beta[0][2]))\n",
    "    print('END')"
   ]
  },
  {
   "cell_type": "markdown",
   "metadata": {},
   "source": [
    "### Draw the plot"
   ]
  },
  {
   "cell_type": "code",
   "execution_count": 19,
   "metadata": {},
   "outputs": [],
   "source": [
    "colors = ['#9658EF', '#C16FAC', '#FF914D']\n",
    "labels = ['Low volatility', 'Medium volatility', 'Meta-volatility']\n",
    "#ylabels = [r'Mean $\\alpha$-value',r'Mean $\\beta$-value']\n",
    "ylabels = ['Mean Learning Rate','Mean Inverse Temperature']\n",
    "\n",
    "my_x_label = 'Volatility'\n"
   ]
  },
  {
   "cell_type": "code",
   "execution_count": 20,
   "metadata": {},
   "outputs": [],
   "source": [
    "# mean bayesian predictions\n",
    "x = np.arange(0,15)\n",
    "\n",
    "y_alpha[0] = exp_fit(x, y0=0.27, a=0.27, k=0.80)\n",
    "y_alpha[1] = exp_fit(x, y0=0.33, a=0.49, k=0.59)\n",
    "y_alpha[2] = exp_fit(x, y0=0.26, a=0.51, k=0.48)"
   ]
  },
  {
   "cell_type": "code",
   "execution_count": 21,
   "metadata": {},
   "outputs": [],
   "source": [
    "y_beta[0] = exp_fit(x, y0=62.16, a=13.41, k=0.75)\n",
    "y_beta[1] = exp_fit(x, y0=36.25, a=11.00, k=0.57)\n",
    "y_beta[2] = exp_fit(x, y0=45.98, a=10.00, k=0.73)"
   ]
  },
  {
   "cell_type": "code",
   "execution_count": 22,
   "metadata": {
    "scrolled": true
   },
   "outputs": [
    {
     "data": {
      "image/png": "[encoded data removed]",
      "text/plain": [
       "<Figure size 700x300 with 2 Axes>"
      ]
     },
     "metadata": {},
     "output_type": "display_data"
    }
   ],
   "source": [
    "x = np.around(np.linspace(0.02,0.3,15), decimals=2)\n",
    "\n",
    "array_list = [stanfit_0_05, stanfit_0_1, stanfit_met]\n",
    "test_sds = np.around(np.linspace(0.02,0.3,15), decimals=2)\n",
    "my_labels =  ['.02', '.04', '.06', '.08', '.1', '.12', '.14', '.16', '.18', '.2', '.22', '.24', '.26', '.28', '.3']\n",
    "\n",
    "fig, axs = plt.subplots(1,2, figsize=(7,3))\n",
    "\n",
    "custom_lines = [Line2D([0], [0], marker='o', color=colors[0], label=labels[0]),\n",
    "                Line2D([0], [0], marker='o', color=colors[1], label=labels[1]),\n",
    "                Line2D([0], [0], marker='o', color=colors[2], label=labels[2])]\n",
    "\n",
    "for ax in range(2):\n",
    "    for train_sd in range(3):\n",
    "        for test_sd in test_sds:\n",
    "            plot_confidence_interval(x=test_sd, \n",
    "                                     values=array_list[train_sd][ax,:,int(test_sd*50-1),:].flatten(),\n",
    "                                     color=colors[train_sd],\n",
    "                                     ax=axs[ax],)\n",
    "            \n",
    "            my_ys = [y_alpha, y_beta]\n",
    "            axs[ax].plot(x, my_ys[ax][train_sd], color=colors[train_sd], lw=0.25, alpha = 0.1)\n",
    "            axs[ax].tick_params(labelsize=5)\n",
    "            \n",
    "            \n",
    "    axs[ax].legend(handles=custom_lines)\n",
    "    axs[ax].set_xticks(np.around(np.linspace(0.02,0.3,15), decimals=2))\n",
    "    axs[ax].set_ylabel(ylabels[ax], fontsize=7)\n",
    "    axs[ax].tick_params(labelsize=6)\n",
    "    \n",
    "    axs[ax].legend(handles=custom_lines, frameon=False, prop={'size': 8})\n",
    "    axs[ax].set_xticks(test_sds, labels = my_labels)\n",
    "    axs[ax].set_ylabel(ylabels[ax], fontsize=8)\n",
    "\n",
    "    \n",
    "axs[0].set_xlabel(my_x_label, fontsize=7)\n",
    "axs[1].set_xlabel(my_x_label, fontsize=7)\n",
    "axs[1].get_legend().remove()\n",
    "axs[0].get_legend().remove()\n",
    "\n",
    "\n",
    "# plt.setp(axs[0].get_xticklabels(), visible=False)\n",
    "# plt.setp(axs[1].get_xticklabels(), visible=False)\n",
    "\n",
    "\n",
    "#plt.show()\n",
    "plt.savefig('plots/alpha_beta_plot.svg', dpi = 300, bbox_inches='tight')"
   ]
  },
  {
   "cell_type": "markdown",
   "metadata": {},
   "source": [
    "# Barplots"
   ]
  },
  {
   "cell_type": "code",
   "execution_count": 23,
   "metadata": {},
   "outputs": [],
   "source": [
    "DV = [y_alpha, y_beta]\n",
    "x = ['Low', 'Medium', 'Meta']"
   ]
  },
  {
   "cell_type": "code",
   "execution_count": 24,
   "metadata": {},
   "outputs": [],
   "source": [
    "def get_mean_confidence_interval(values, z=1.96):\n",
    "    mean = np.nanmean(values)\n",
    "    stdev = np.nanstd(values)\n",
    "    confidence_interval = z * stdev / sqrt(len(values))\n",
    "    \n",
    "    return mean, confidence_interval"
   ]
  },
  {
   "cell_type": "code",
   "execution_count": 25,
   "metadata": {},
   "outputs": [],
   "source": [
    "y = np.zeros([2,3])\n",
    "c = np.zeros([2,3])\n",
    "\n",
    "for i,_ in enumerate(array_list):\n",
    "    for j, dv in enumerate(DV):\n",
    "        y[j,i], c[j,i] = get_mean_confidence_interval(values =dv[i])"
   ]
  },
  {
   "cell_type": "code",
   "execution_count": 26,
   "metadata": {
    "scrolled": true
   },
   "outputs": [
    {
     "data": {
      "image/png": "[encoded data removed]",
      "text/plain": [
       "<Figure size 300x500 with 2 Axes>"
      ]
     },
     "metadata": {},
     "output_type": "display_data"
    }
   ],
   "source": [
    "fig, axs = plt.subplots(2,1, figsize=(3,5))\n",
    "\n",
    "axs[0].bar(x, y[0], color=colors)\n",
    "axs[0].set_ylabel('Mean Learning Rate')\n",
    "axs[0].set_xlabel('')\n",
    "axs[0].errorbar(x, y[0], yerr=c[0], fmt=\"none\", ecolor = colors)\n",
    "plt.setp(axs[0].get_xticklabels(), visible=False)\n",
    "\n",
    "axs[1].bar(x, y[1], color=colors)\n",
    "axs[1].set_ylabel('Mean Inverse Temperature')\n",
    "axs[1].set_xlabel('Training Volatility')\n",
    "axs[1].errorbar(x, y[1], yerr=c[1], fmt=\"none\", ecolor = colors)\n",
    "\n",
    "#plt.show()\n",
    "plt.savefig('plots/alpha_beta_barplot.png', dpi = 300, bbox_inches='tight')"
   ]
  },
  {
   "cell_type": "code",
   "execution_count": 27,
   "metadata": {},
   "outputs": [
    {
     "data": {
      "text/plain": [
       "array([2.80925185e-17, 2.20070452e-02, 3.52195999e-02])"
      ]
     },
     "execution_count": 27,
     "metadata": {},
     "output_type": "execute_result"
    }
   ],
   "source": [
    "c[0]"
   ]
  },
  {
   "cell_type": "code",
   "execution_count": 55,
   "metadata": {},
   "outputs": [],
   "source": [
    "# save files for jasp\n",
    "\n",
    "alpha = []\n",
    "beta = []\n",
    "grp = []\n",
    "id = []\n",
    "test_sd = []\n",
    "\n",
    "\n",
    "for i,tsd in enumerate(x):\n",
    "    alpha.append(np.mean(array_list[i][0], axis = 0))\n",
    "    beta.append(np.mean(array_list[i][1], axis = 0))\n",
    "    grp.append([tsd]*(15*30))\n",
    "    id.append([np.arange(0,30)]*15)\n",
    "    test_sd.append([[i]*30 for i in test_sds])"
   ]
  },
  {
   "cell_type": "code",
   "execution_count": 56,
   "metadata": {},
   "outputs": [],
   "source": [
    "df = pd.DataFrame({'alpha':np.array(alpha).flatten(), 'beta':np.array(beta).flatten(), 'grp':np.array(grp).flatten(),\n",
    "                  'id':np.array(id).flatten(), 'test_sd': np.array(test_sd).flatten()})\n",
    "df.to_csv('data/intermediate_data/alpha_beta_barplot_data.csv')"
   ]
  },
  {
   "cell_type": "code",
   "execution_count": 63,
   "metadata": {},
   "outputs": [],
   "source": [
    "# wide format\n",
    "df1 = df.pivot(index = ['grp', 'id'], columns = 'test_sd', values = ['alpha']).reset_index()\n",
    "df1.to_csv('data/intermediate_data/alpha_all_levels_wide.csv')"
   ]
  },
  {
   "cell_type": "code",
   "execution_count": 64,
   "metadata": {},
   "outputs": [],
   "source": [
    "# wide format\n",
    "df1 = df.pivot(index = ['grp', 'id'], columns = 'test_sd', values = ['beta']).reset_index()\n",
    "df1.to_csv('data/intermediate_data/beta_all_levels_wide.csv')"
   ]
  }
 ],
 "metadata": {
  "kernelspec": {
   "display_name": "Python 3 (ipykernel)",
   "language": "python",
   "name": "python3"
  },
  "language_info": {
   "codemirror_mode": {
    "name": "ipython",
    "version": 3
   },
   "file_extension": ".py",
   "mimetype": "text/x-python",
   "name": "python",
   "nbconvert_exporter": "python",
   "pygments_lexer": "ipython3",
   "version": "3.7.2"
  }
 },
 "nbformat": 4,
 "nbformat_minor": 2
}
