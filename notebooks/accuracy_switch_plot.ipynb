{
 "cells": [
  {
   "cell_type": "code",
   "execution_count": 1,
   "id": "b0c8e821-a7d4-4096-9ad2-3c1beea0e0b4",
   "metadata": {
    "scrolled": true
   },
   "outputs": [],
   "source": [
    "import pandas as pd\n",
    "import numpy as np\n",
    "import seaborn as sns\n",
    "import matplotlib.pyplot as plt\n",
    "from matplotlib.lines import Line2D\n",
    "from scipy.optimize import curve_fit\n",
    "from math import sqrt\n",
    "import matplotlib.cm as cm\n",
    "from matplotlib.colors import LinearSegmentedColormap\n",
    "import matplotlib.colors as cols\n",
    "from matplotlib.collections import LineCollection\n",
    "import pyarrow.feather as feather\n",
    "from scipy.stats import iqr"
   ]
  },
  {
   "cell_type": "code",
   "execution_count": 2,
   "id": "3e482b2a",
   "metadata": {},
   "outputs": [],
   "source": [
    "# OPTIONS\n",
    "\n",
    "train_sds = [0.05, 0.1, 'meta']\n",
    "test_sds = np.around(np.linspace(0.02,0.3,15), decimals=2)\n",
    "colors = ['#9658EF', '#C16FAC', '#FF914D']\n",
    "labels = ['Low volatility', 'Medium volatility', 'Meta-volatility']\n",
    "ylabels = [r'% Optimal',r'% Switch']\n",
    "my_x_label = 'Volatility'\n",
    "\n"
   ]
  },
  {
   "cell_type": "code",
   "execution_count": 3,
   "id": "2b52e85d",
   "metadata": {},
   "outputs": [],
   "source": [
    "# Read pickle files\n",
    "raw_df_0_05 = pd.read_pickle(\"../data/rnn_raw_data/merged_rnn_data_train_sd_0_05\")\n",
    "raw_df_0_1 = pd.read_pickle(\"../data/rnn_raw_data/merged_rnn_data_train_sd_0_1\")\n",
    "raw_df_met = pd.read_pickle(\"../data/rnn_raw_data/merged_rnn_data_train_sd_met\")\n",
    "\n",
    "\n",
    "# df_0_05 = df_0_05.groupby(['rnn_id', 'run', 'test_sd'], as_index=False).mean({'accuracy', 'is_switch'})\n",
    "# df_0_1 = df_0_1.groupby(['rnn_id', 'run', 'test_sd'], as_index=False).mean({'accuracy', 'is_switch'})\n",
    "# df_met = df_met.groupby(['rnn_id', 'run', 'test_sd'], as_index=False).mean({'accuracy', 'is_switch'})\n",
    "\n",
    "# Add train_sd column\n",
    "raw_df_0_05['train_sd'] = 0.05\n",
    "raw_df_0_1['train_sd'] = 0.1\n",
    "raw_df_met['train_sd'] = 'meta'"
   ]
  },
  {
   "cell_type": "code",
   "execution_count": 4,
   "id": "4c6d5df0",
   "metadata": {},
   "outputs": [],
   "source": [
    "# Get data points for boxplot\n",
    "df_0_05 = raw_df_0_05.groupby(['rnn_id', 'run', 'test_sd'], as_index = False).mean({'accuracy', 'is_switch'})\n",
    "df_0_1 = raw_df_0_1.groupby(['rnn_id', 'run', 'test_sd'], as_index = False).mean({'accuracy', 'is_switch'})\n",
    "df_met = raw_df_met.groupby(['rnn_id', 'run', 'test_sd'], as_index = False).mean({'accuracy', 'is_switch'})\n",
    "df_0_05 = df_0_05.groupby(['test_sd','rnn_id'], as_index=False).median({'accuracy', 'is_switch'})\n",
    "df_0_1 = df_0_1.groupby(['test_sd','rnn_id'], as_index=False).median({'accuracy', 'is_switch'})\n",
    "df_met = df_met.groupby(['test_sd','rnn_id'], as_index=False).median({'accuracy', 'is_switch'})"
   ]
  },
  {
   "cell_type": "code",
   "execution_count": 5,
   "id": "b80124ea",
   "metadata": {},
   "outputs": [],
   "source": [
    "# Round test_sd values\n",
    "df_0_05 = df_0_05.round({'test_sd' : 2})\n",
    "df_0_1 = df_0_1.round({'test_sd' : 2})\n",
    "df_met = df_met.round({'test_sd' : 2})"
   ]
  },
  {
   "cell_type": "code",
   "execution_count": 6,
   "id": "b349f20e",
   "metadata": {},
   "outputs": [],
   "source": [
    "# Exponential decay function\n",
    "def exp_fit(x, y0, a, k):\n",
    "    y = (y0-a) * np.exp(-k * x) + a\n",
    "    return y"
   ]
  },
  {
   "cell_type": "code",
   "execution_count": 7,
   "id": "0eab614b",
   "metadata": {},
   "outputs": [],
   "source": [
    "def plot_confidence_interval(x, values, color, ax, z=1.96, horizontal_line_width=0.005):\n",
    "    mean = np.nanmean(values)\n",
    "    stdev = np.nanstd(values)\n",
    "    confidence_interval = z * stdev / sqrt(len(values))\n",
    "\n",
    "    left = x - horizontal_line_width / 2\n",
    "    top = mean - confidence_interval\n",
    "    right = x + horizontal_line_width / 2\n",
    "    bottom = mean + confidence_interval\n",
    "    ax.plot([x, x], [top, bottom], color=color, alpha=1, lw=0.5)\n",
    "    ax.plot([left, right], [top, top], color=color, alpha=1, lw=0.5)\n",
    "    ax.plot([left, right], [bottom, bottom], color=color, alpha=1, lw=0.5)\n",
    "    ax.plot(x, mean, 'o', color=color, alpha =1, markersize = 3)\n",
    "        \n",
    "    return mean, confidence_interval"
   ]
  },
  {
   "cell_type": "code",
   "execution_count": 8,
   "id": "91ecc4ed",
   "metadata": {
    "scrolled": true
   },
   "outputs": [
    {
     "name": "stdout",
     "output_type": "stream",
     "text": [
      "START\n",
      "Train SD: 0.05\n",
      "Accuracy\n",
      "intercept y0 = 0.7644687892269848\n",
      "asymptote a = 0.262640359104069\n",
      "decay rate k = 9.329371683096852\n",
      "Switch\n",
      "intercept y0 = 0.02821018046066762\n",
      "asymptote a = 0.2942398593692986\n",
      "decay rate k = 4.0317892788386445\n",
      "END\n",
      "START\n",
      "Train SD: 0.1\n",
      "Accuracy\n",
      "intercept y0 = 0.7827311184723992\n",
      "asymptote a = 0.27013222914205715\n",
      "decay rate k = 7.238354122857522\n",
      "Switch\n",
      "intercept y0 = 0.05813386310525646\n",
      "asymptote a = 0.384511343148026\n",
      "decay rate k = 2.87806268897971\n",
      "END\n",
      "START\n",
      "Train SD: meta\n",
      "Accuracy\n",
      "intercept y0 = 0.759983191775142\n",
      "asymptote a = 0.2736300910786768\n",
      "decay rate k = 7.20594616383727\n",
      "Switch\n",
      "intercept y0 = 0.04746335351931174\n",
      "asymptote a = 0.40753228441340883\n",
      "decay rate k = 3.3212360327359263\n",
      "END\n"
     ]
    }
   ],
   "source": [
    "# Curve fit\n",
    "x = np.around(np.linspace(0.02,0.3,15), decimals=2)\n",
    "df_list = [df_0_05, df_0_1, df_met]\n",
    "param_bounds=([0,0,0],[1,1,np.inf])\n",
    "y_acc = []\n",
    "y_switch = []\n",
    "for i, df in enumerate(df_list):\n",
    "    fit_acc = curve_fit(exp_fit, np.array(df['test_sd']), np.array(df['accuracy']),\n",
    "                        maxfev = 6000, bounds = param_bounds)\n",
    "    \n",
    "    y_acc.append(exp_fit(x, y0= fit_acc[0][0], a = fit_acc[0][1], k = fit_acc[0][2]))\n",
    "    \n",
    "    fit_switch = curve_fit(exp_fit, np.array(df['test_sd']), np.array(df['is_switch']), maxfev = 6000)\n",
    "    \n",
    "    y_switch.append(exp_fit(x, y0= fit_switch[0][0], a = fit_switch[0][1], k = fit_switch[0][2]))\n",
    "\n",
    "    #y_switch.append(fit_switch[0][0] * np.exp(-fit_switch[0][1] * x) + fit_switch[0][2])\n",
    "    \n",
    "    \n",
    "    print('START')\n",
    "    print('Train SD: {}'.format(train_sds[i]))\n",
    "    print('Accuracy')\n",
    "    print('intercept y0 = {}'.format(fit_acc[0][0]))\n",
    "    print('asymptote a = {}'.format(fit_acc[0][1]))\n",
    "    print('decay rate k = {}'.format(fit_acc[0][2]))\n",
    "    print('Switch')\n",
    "    print('intercept y0 = {}'.format(fit_switch[0][0]))\n",
    "    print('asymptote a = {}'.format(fit_switch[0][1]))\n",
    "    print('decay rate k = {}'.format(fit_switch[0][2]))\n",
    "    print('END')\n",
    "    \n",
    "    "
   ]
  },
  {
   "cell_type": "code",
   "execution_count": 9,
   "id": "703c90e2",
   "metadata": {},
   "outputs": [],
   "source": [
    "# mean bayesian predictions\n",
    "x = np.arange(0,15)\n",
    "y_acc[0] = exp_fit(x, y0=0.68, a=0.26, k=0.19)\n",
    "y_acc[1] = exp_fit(x, y0=0.71, a=0.27, k=0.14)\n",
    "y_acc[2] = exp_fit(x, y0=0.69, a=0.27, k=0.14)"
   ]
  },
  {
   "cell_type": "code",
   "execution_count": 10,
   "id": "b9d3ac31",
   "metadata": {},
   "outputs": [],
   "source": [
    "y_switch[0] = exp_fit(x, y0=0.05, a=0.30, k=0.07)\n",
    "y_switch[1] = exp_fit(x, y0=0.08, a=0.40, k=0.05)\n",
    "y_switch[2] = exp_fit(x, y0=0.07, a=0.42 , k=0.06)"
   ]
  },
  {
   "cell_type": "code",
   "execution_count": 11,
   "id": "85c1233c",
   "metadata": {
    "scrolled": true
   },
   "outputs": [
    {
     "data": {
      "image/png": "[encoded data removed]",
      "text/plain": [
       "<Figure size 700x300 with 2 Axes>"
      ]
     },
     "metadata": {},
     "output_type": "display_data"
    }
   ],
   "source": [
    "# figure size\n",
    "fig, axs = plt.subplots(1,2, figsize=(7,3))\n",
    "\n",
    "x = np.around(np.linspace(0.02,0.3,15), decimals=2)\n",
    "\n",
    "my_labels =  ['.02', '.04', '.06', '.08', '.1', '.12', '.14', '.16', '.18', '.2', '.22', '.24', '.26', '.28', '.3']\n",
    "\n",
    "custom_lines = [Line2D([0], [0], marker='o', color=colors[0], label=labels[0]),\n",
    "                Line2D([0], [0], marker='o', color=colors[1], label=labels[1]),\n",
    "                Line2D([0], [0], marker='o', color=colors[2], label=labels[2])]\n",
    "\n",
    "for ax in range(2):\n",
    "    for test_sd in test_sds:\n",
    "        for i, train_sd in enumerate(train_sds):\n",
    "            df = df_list[i]\n",
    "            df_filt = df[(df['test_sd']==test_sd)]\n",
    "            my_values = [df_filt.accuracy.to_numpy(), df_filt.is_switch.to_numpy()]\n",
    "            my_ys = [y_acc, y_switch]\n",
    "            \n",
    "            plot_confidence_interval(x=test_sd, \n",
    "                         values=my_values[ax],\n",
    "                         color=colors[i],\n",
    "                         ax=axs[ax],)\n",
    "                \n",
    "            axs[ax].plot(x, my_ys[ax][i], color=colors[i], lw=0.25, alpha = 0.1)\n",
    "            axs[ax].tick_params(labelsize=6)\n",
    "\n",
    "    axs[ax].legend(handles=custom_lines, frameon=False, prop={'size': 8})\n",
    "    axs[ax].set_xticks(np.around(np.linspace(0.02,0.3,15), decimals=2), labels = my_labels)\n",
    "    axs[ax].set_ylabel(ylabels[ax], fontsize=8)\n",
    "\n",
    "#axs[1].set_xlabel(my_x_label, fontsize=7)\n",
    "axs[1].get_legend().remove()\n",
    "\n",
    "plt.setp(axs[0].get_xticklabels(), visible=False)\n",
    "plt.setp(axs[1].get_xticklabels(), visible=False)\n",
    "\n",
    "\n",
    "#plt.show()\n",
    "plt.savefig('../plots/accuracy_switch_plot.svg', dpi = 300, bbox_inches='tight')"
   ]
  },
  {
   "cell_type": "code",
   "execution_count": 12,
   "id": "16e5540b",
   "metadata": {},
   "outputs": [],
   "source": [
    "# save median values for stan\n",
    "df_0_05.groupby(['test_sd']).mean()[['accuracy', 'is_switch']].to_csv('../data/rnn_raw_data/train_sd_0_05.csv')\n",
    "df_0_1.groupby(['test_sd']).mean()[['accuracy', 'is_switch']].to_csv('../data/rnn_raw_data/train_sd_0_1.csv')\n",
    "df_met.groupby(['test_sd']).mean()[['accuracy', 'is_switch']].to_csv('../data/rnn_raw_data/train_sd_met.csv')"
   ]
  },
  {
   "cell_type": "code",
   "execution_count": 13,
   "id": "af0a8f21",
   "metadata": {},
   "outputs": [],
   "source": [
    "acc = []\n",
    "switch = []\n",
    "test_sd = []\n",
    "grp = []\n",
    "id = []\n",
    "n = len(df_0_05['accuracy'])"
   ]
  },
  {
   "cell_type": "code",
   "execution_count": 14,
   "id": "bee36c33",
   "metadata": {},
   "outputs": [],
   "source": [
    "acc.append(df_0_05['accuracy'])\n",
    "acc.append(df_0_1['accuracy'])\n",
    "acc.append(df_met['accuracy'])\n",
    "\n",
    "switch.append(df_0_05['is_switch'])\n",
    "switch.append(df_0_1['is_switch'])\n",
    "switch.append(df_met['is_switch'])\n",
    "\n",
    "test_sd.append(df_0_05['test_sd'])\n",
    "test_sd.append(df_0_1['test_sd'])\n",
    "test_sd.append(df_met['test_sd'])\n",
    "\n",
    "id.append(df_0_05['rnn_id'])\n",
    "id.append(df_0_1['rnn_id'])\n",
    "id.append(df_met['rnn_id'])\n",
    "\n",
    "\n",
    "grp.append(['Low']*n)\n",
    "grp.append(['Medium']*n)\n",
    "grp.append(['Meta']*n)"
   ]
  },
  {
   "cell_type": "code",
   "execution_count": 15,
   "id": "8c00dbb8",
   "metadata": {},
   "outputs": [],
   "source": [
    "df = pd.DataFrame({'acc':np.array(acc).flatten(), 'switch':np.array(switch).flatten(), 'test_sd':np.array(test_sd).flatten(),'grp':np.array(grp).flatten(),\n",
    "                  'id': np.array(id).flatten()})\n",
    "df.to_csv('../data/intermediate_data/accuracy_switch_all_levels_data.csv')"
   ]
  },
  {
   "cell_type": "code",
   "execution_count": 16,
   "id": "9360c2b1",
   "metadata": {},
   "outputs": [],
   "source": [
    "# long format\n",
    "df1 = df.pivot(index = ['grp', 'id'], columns = 'test_sd', values = ['acc']).reset_index()\n",
    "df1.to_csv('../data/intermediate_data/accuracy_all_levels_wide.csv')"
   ]
  },
  {
   "cell_type": "code",
   "execution_count": 17,
   "id": "eea34b95",
   "metadata": {
    "scrolled": true
   },
   "outputs": [],
   "source": [
    "df1 = df.pivot(index = ['grp', 'id'], columns = 'test_sd', values = ['switch']).reset_index()\n",
    "df1.to_csv('../data/intermediate_data/switch_all_levels_wide.csv')"
   ]
  },
  {
   "cell_type": "markdown",
   "id": "dac26df9",
   "metadata": {},
   "source": [
    "# Barplots"
   ]
  },
  {
   "cell_type": "code",
   "execution_count": 18,
   "id": "86d581f4",
   "metadata": {},
   "outputs": [],
   "source": [
    "df_list = [df_0_05, df_0_1, df_met]\n",
    "DV = ['accuracy', 'is_switch']\n",
    "x = ['Low', 'Medium', 'Meta']"
   ]
  },
  {
   "cell_type": "code",
   "execution_count": 19,
   "id": "6474ac22",
   "metadata": {},
   "outputs": [],
   "source": [
    "def get_mean_confidence_interval(values, z=1.96):\n",
    "    mean = np.nanmean(values)\n",
    "    stdev = np.nanstd(values)\n",
    "    confidence_interval = z * stdev / sqrt(len(values))\n",
    "    \n",
    "    return mean, confidence_interval"
   ]
  },
  {
   "cell_type": "code",
   "execution_count": 20,
   "id": "66cd91c1",
   "metadata": {},
   "outputs": [],
   "source": [
    "y = np.zeros([2,3])\n",
    "c = np.zeros([2,3])\n",
    "\n",
    "for i,_ in enumerate(train_sds):\n",
    "    for j, dv in enumerate(DV):\n",
    "        y[j,i], c[j,i] = get_mean_confidence_interval(values =df_list[i][dv])"
   ]
  },
  {
   "cell_type": "code",
   "execution_count": 21,
   "id": "990300e6",
   "metadata": {
    "scrolled": true
   },
   "outputs": [
    {
     "data": {
      "image/png": "[encoded data removed]",
      "text/plain": [
       "<Figure size 300x500 with 2 Axes>"
      ]
     },
     "metadata": {},
     "output_type": "display_data"
    }
   ],
   "source": [
    "fig, axs = plt.subplots(2,1, figsize=(3,5))\n",
    "\n",
    "axs[0].bar(x, y[0], color=colors)\n",
    "axs[0].set_ylabel('% Optimal')\n",
    "axs[0].set_xlabel('')\n",
    "axs[0].errorbar(x, y[0], yerr=c[0], fmt=\"none\", ecolor = colors)\n",
    "plt.setp(axs[0].get_xticklabels(), visible=False)\n",
    "\n",
    "axs[1].bar(x, y[1], color=colors)\n",
    "axs[1].set_ylabel('% Switch')\n",
    "axs[1].set_xlabel('Training Volatility')\n",
    "axs[1].errorbar(x, y[1], yerr=c[1], fmt=\"none\", ecolor = colors)\n",
    "\n",
    "#plt.show()\n",
    "plt.savefig('../plots/accuracy_switch_barplot.svg', dpi = 300, bbox_inches='tight')"
   ]
  },
  {
   "cell_type": "code",
   "execution_count": 22,
   "id": "f567e6de",
   "metadata": {},
   "outputs": [],
   "source": [
    "# save files for jasp\n",
    "\n",
    "acc = []\n",
    "switch = []\n",
    "grp = []\n",
    "\n",
    "for i,tsd in enumerate(train_sds):\n",
    "    acc.append(df_list[i]['accuracy'])\n",
    "    switch.append(df_list[i]['is_switch'])\n",
    "    grp.append([tsd]*len(df_list[i]['accuracy']))"
   ]
  },
  {
   "cell_type": "code",
   "execution_count": 23,
   "id": "a2d797f6",
   "metadata": {},
   "outputs": [],
   "source": [
    "df = pd.DataFrame({'acc':np.array(acc).flatten(), 'switch':np.array(switch).flatten(), 'grp':np.array(grp).flatten()})\n",
    "df.to_csv('../data/intermediate_data/accuracy_switch_barplot_data.csv')"
   ]
  },
  {
   "cell_type": "markdown",
   "id": "04ebc368",
   "metadata": {},
   "source": [
    "# CUT"
   ]
  },
  {
   "cell_type": "code",
   "execution_count": null,
   "id": "994e5e69",
   "metadata": {},
   "outputs": [],
   "source": [
    "# create color gradient\n",
    "my_colors = ['#9658EF', '#FF914D'] # define 2 colors of the ends\n",
    "\n",
    "lcm = LinearSegmentedColormap.from_list(\n",
    "        \"Custom\", my_colors, N=15)\n",
    "\n",
    "my_norm = cols.Normalize(0, 0.32)\n",
    "my_map = cm.ScalarMappable(norm=my_norm, cmap=lcm)\n",
    "\n",
    "my_map.to_rgba(x)"
   ]
  },
  {
   "cell_type": "code",
   "execution_count": 168,
   "id": "a38c42d2",
   "metadata": {
    "scrolled": true
   },
   "outputs": [
    {
     "data": {
      "text/plain": [
       "[array([0.75666667, 0.69666667, 0.68666667, 0.775     , 0.74666667,\n",
       "        0.75      , 0.705     , 0.72333333, 0.75166667, 0.72166667,\n",
       "        0.71333333, 0.72833333, 0.75166667, 0.715     , 0.73833333,\n",
       "        0.71166667, 0.75333333, 0.73      , 0.755     , 0.74666667,\n",
       "        0.69333333, 0.695     , 0.68166667, 0.75      , 0.68333333,\n",
       "        0.755     , 0.72666667, 0.69333333, 0.775     , 0.70166667]),\n",
       " array([0.08166667, 0.08333333, 0.085     , 0.07666667, 0.08166667,\n",
       "        0.06333333, 0.10166667, 0.10833333, 0.08166667, 0.08833333,\n",
       "        0.12      , 0.08666667, 0.07666667, 0.09333333, 0.06833333,\n",
       "        0.07333333, 0.09166667, 0.07166667, 0.11666667, 0.11      ,\n",
       "        0.06833333, 0.15666667, 0.11      , 0.09833333, 0.10166667,\n",
       "        0.08666667, 0.10166667, 0.09166667, 0.07166667, 0.085     ])]"
      ]
     },
     "execution_count": 168,
     "metadata": {},
     "output_type": "execute_result"
    }
   ],
   "source": [
    "y    = my_ys[ax][i]\n",
    "cols = np.linspace(0,1,len(x))\n",
    "\n",
    "points = np.array([x, y]).T.reshape(-1, 1, 2)\n",
    "segments = np.concatenate([points[:-1], points[1:]], axis=1)\n",
    "\n",
    "lc = LineCollection(segments, cmap=lcm)\n",
    "lc.set_array(cols)\n",
    "lc.set_linewidth(2)\n",
    "line = axs[ax].add_collection(lc)"
   ]
  },
  {
   "cell_type": "code",
   "execution_count": 161,
   "id": "6760c387",
   "metadata": {},
   "outputs": [
    {
     "data": {
      "text/plain": [
       "<matplotlib.colorbar.Colorbar at 0x1ca55cf3b00>"
      ]
     },
     "execution_count": 161,
     "metadata": {},
     "output_type": "execute_result"
    },
    {
     "data": {
      "image/png": "[encoded data removed]",
      "text/plain": [
       "<Figure size 640x480 with 2 Axes>"
      ]
     },
     "metadata": {},
     "output_type": "display_data"
    }
   ],
   "source": [
    "x    = x#np.linspace(0,1, 100)\n",
    "y    = my_ys[ax][i]\n",
    "cols = np.linspace(0,1,len(x))\n",
    "\n",
    "points = np.array([x, y]).T.reshape(-1, 1, 2)\n",
    "segments = np.concatenate([points[:-1], points[1:]], axis=1)\n",
    "\n",
    "fig, ax = plt.subplots()\n",
    "lc = LineCollection(segments, cmap=lcm)\n",
    "lc.set_array(cols)\n",
    "lc.set_linewidth(2)\n",
    "line = ax.add_collection(lc)\n",
    "fig.colorbar(line,ax=ax)"
   ]
  },
  {
   "cell_type": "code",
   "execution_count": 163,
   "id": "702b2bba",
   "metadata": {},
   "outputs": [
    {
     "data": {
      "text/plain": [
       "array([0.        , 0.07142857, 0.14285714, 0.21428571, 0.28571429,\n",
       "       0.35714286, 0.42857143, 0.5       , 0.57142857, 0.64285714,\n",
       "       0.71428571, 0.78571429, 0.85714286, 0.92857143, 1.        ])"
      ]
     },
     "execution_count": 163,
     "metadata": {},
     "output_type": "execute_result"
    }
   ],
   "source": [
    "cols"
   ]
  },
  {
   "cell_type": "code",
   "execution_count": 164,
   "id": "d10dad25",
   "metadata": {},
   "outputs": [
    {
     "data": {
      "text/plain": [
       "array([[0.58823529, 0.34509804, 0.9372549 , 1.        ],\n",
       "       [0.61764706, 0.36106443, 0.89187675, 1.        ],\n",
       "       [0.64705882, 0.37703081, 0.8464986 , 1.        ],\n",
       "       [0.67647059, 0.3929972 , 0.80112045, 1.        ],\n",
       "       [0.70588235, 0.40896359, 0.7557423 , 1.        ],\n",
       "       [0.73529412, 0.42492997, 0.71036415, 1.        ],\n",
       "       [0.76470588, 0.44089636, 0.66498599, 1.        ],\n",
       "       [0.79411765, 0.45686275, 0.61960784, 1.        ],\n",
       "       [0.82352941, 0.47282913, 0.57422969, 1.        ],\n",
       "       [0.85294118, 0.48879552, 0.52885154, 1.        ],\n",
       "       [0.88235294, 0.5047619 , 0.48347339, 1.        ],\n",
       "       [0.91176471, 0.52072829, 0.43809524, 1.        ],\n",
       "       [0.94117647, 0.53669468, 0.39271709, 1.        ],\n",
       "       [0.97058824, 0.55266106, 0.34733894, 1.        ],\n",
       "       [1.        , 0.56862745, 0.30196078, 1.        ]])"
      ]
     },
     "execution_count": 164,
     "metadata": {},
     "output_type": "execute_result"
    }
   ],
   "source": [
    "my_map.to_rgba(x)"
   ]
  }
 ],
 "metadata": {
  "kernelspec": {
   "display_name": "Python 3 (ipykernel)",
   "language": "python",
   "name": "python3"
  },
  "language_info": {
   "codemirror_mode": {
    "name": "ipython",
    "version": 3
   },
   "file_extension": ".py",
   "mimetype": "text/x-python",
   "name": "python",
   "nbconvert_exporter": "python",
   "pygments_lexer": "ipython3",
   "version": "3.7.2"
  }
 },
 "nbformat": 4,
 "nbformat_minor": 5
}
